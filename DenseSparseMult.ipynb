{
  "nbformat": 4,
  "nbformat_minor": 0,
  "metadata": {
    "kernelspec": {
      "name": "python3",
      "display_name": "Python 3"
    },
    "language_info": {
      "codemirror_mode": {
        "name": "ipython",
        "version": 3
      },
      "file_extension": ".py",
      "mimetype": "text/x-python",
      "name": "python",
      "nbconvert_exporter": "python",
      "pygments_lexer": "ipython3",
      "version": "3.6.8"
    },
    "colab": {
      "name": "DenseSparseMult.ipynb",
      "version": "0.3.2",
      "provenance": [],
      "machine_shape": "hm"
    },
    "accelerator": "TPU"
  },
  "cells": [
    {
      "cell_type": "markdown",
      "metadata": {
        "id": "Nol4-zBuTWr5",
        "colab_type": "text"
      },
      "source": [
        "# This is a notebook testing Noble.AI's implementation of a matrix product XY where Y is a SparseTensor.\n",
        "\n",
        "### The work here suggests that one should use SparseTensor math because it's cheaper in time and memory depending on the density and size of the matrix.\n",
        "\n",
        "### The command is `tf.transpose(tf.sparse.sparse_dense_matmul(Y, X, adjoint_a = True, adjoint_b = True))`\n"
      ]
    },
    {
      "cell_type": "code",
      "metadata": {
        "id": "8y2mcfDDTWr6",
        "colab_type": "code",
        "colab": {}
      },
      "source": [
        "import numpy as np\n",
        "import tensorflow as tf\n",
        "import scipy\n",
        "import os\n",
        "import time\n",
        "from matplotlib import pyplot as plt\n",
        "\n",
        "tfk = tf.keras"
      ],
      "execution_count": 0,
      "outputs": []
    },
    {
      "cell_type": "markdown",
      "metadata": {
        "id": "34swymfuTWr9",
        "colab_type": "text"
      },
      "source": [
        "### Make Testing Directory"
      ]
    },
    {
      "cell_type": "code",
      "metadata": {
        "id": "stMT7W9cTWr-",
        "colab_type": "code",
        "colab": {}
      },
      "source": [
        "this_dir = os.path.join(os.getcwd(),\"eager-sparse-testing\")\n",
        "os.makedirs(this_dir,exist_ok=True)"
      ],
      "execution_count": 0,
      "outputs": []
    },
    {
      "cell_type": "markdown",
      "metadata": {
        "id": "QaL5BJH1TWr_",
        "colab_type": "text"
      },
      "source": [
        "# Say we want to compute the 2nd derivative of a signal"
      ]
    },
    {
      "cell_type": "markdown",
      "metadata": {
        "id": "By7N5sVSTWsA",
        "colab_type": "text"
      },
      "source": [
        "### We can do that by multiplying a matrix representing the 2nd derivative finite difference operator with a vector of the signal\n",
        "#### Define the matrix on CPU RAM in dense format using NumPy "
      ]
    },
    {
      "cell_type": "code",
      "metadata": {
        "id": "s29OaTj7TWsA",
        "colab_type": "code",
        "colab": {}
      },
      "source": [
        "matrix_size = 8192\n",
        "\n",
        "dense_matrix = -2.*np.eye(matrix_size,k=0)\n",
        "dense_matrix += np.eye(matrix_size,k=1)\n",
        "dense_matrix += np.eye(matrix_size,k=-1)"
      ],
      "execution_count": 0,
      "outputs": []
    },
    {
      "cell_type": "code",
      "metadata": {
        "id": "axIgq8b5TWsC",
        "colab_type": "code",
        "outputId": "cb7a6fa4-72b0-4651-ec4b-7f51c4aa2358",
        "colab": {
          "base_uri": "https://localhost:8080/",
          "height": 318
        }
      },
      "source": [
        "plt.contourf(np.abs(dense_matrix)>0,2)\n",
        "plt.title(\"(Supposedly) Dense Matrix\", fontsize = 16)\n",
        "plt.xlabel(\"Dimension 1\", fontsize = 14)\n",
        "plt.ylabel(\"Dimension 2\", fontsize = 14)\n",
        "plt.colorbar()"
      ],
      "execution_count": 0,
      "outputs": [
        {
          "output_type": "execute_result",
          "data": {
            "text/plain": [
              "<matplotlib.colorbar.Colorbar at 0x7f6205c4b0b8>"
            ]
          },
          "metadata": {
            "tags": []
          },
          "execution_count": 4
        },
        {
          "output_type": "display_data",
          "data": {
            "image/png": "[encoded data removed]",
            "text/plain": [
              "<Figure size 432x288 with 2 Axes>"
            ]
          },
          "metadata": {
            "tags": []
          }
        }
      ]
    },
    {
      "cell_type": "markdown",
      "metadata": {
        "id": "y6biAjH-TWsE",
        "colab_type": "text"
      },
      "source": [
        "### Generate a signal"
      ]
    },
    {
      "cell_type": "code",
      "metadata": {
        "id": "W2B6fGJKTWsF",
        "colab_type": "code",
        "outputId": "08252992-b455-432a-a851-20ec6b54719a",
        "colab": {
          "base_uri": "https://localhost:8080/",
          "height": 301
        }
      },
      "source": [
        "# Define a domain\n",
        "xax = np.linspace(-2*np.pi,2*np.pi,matrix_size)\n",
        "\n",
        "# This is a sinusoid damped at the edges by a Gaussian\n",
        "data_vector = np.sin(2*xax)*np.exp(-0.5*xax**2.)\n",
        "\n",
        "# Make the plot\n",
        "plt.plot(xax,data_vector)\n",
        "plt.title(\"Test Signal\",fontsize=16)\n",
        "plt.xlabel(\"Arbitrary Domain\",fontsize=14)\n",
        "plt.ylabel(\"Arbitrary Units\",fontsize=14)\n",
        "plt.grid()"
      ],
      "execution_count": 0,
      "outputs": [
        {
          "output_type": "display_data",
          "data": {
            "image/png": "[encoded data removed]",
            "text/plain": [
              "<Figure size 432x288 with 1 Axes>"
            ]
          },
          "metadata": {
            "tags": []
          }
        }
      ]
    },
    {
      "cell_type": "code",
      "metadata": {
        "id": "cKAohXHGTWsH",
        "colab_type": "code",
        "outputId": "7d478c58-bd61-4a31-9098-0519f60ba7cf",
        "colab": {
          "base_uri": "https://localhost:8080/",
          "height": 301
        }
      },
      "source": [
        "# Calculate 2nd Derivative\n",
        "dense_out_np = np.dot(dense_matrix,data_vector)\n",
        "\n",
        "\n",
        "# Make the plot\n",
        "plt.plot(xax,dense_out_np)\n",
        "plt.title(\"Test Signal\",fontsize=16)\n",
        "plt.xlabel(\"Arbitrary Domain\",fontsize=14)\n",
        "plt.ylabel(\"Arbitrary Units\",fontsize=14)\n",
        "plt.grid()"
      ],
      "execution_count": 0,
      "outputs": [
        {
          "output_type": "display_data",
          "data": {
            "image/png": "[encoded data removed]",
            "text/plain": [
              "<Figure size 432x288 with 1 Axes>"
            ]
          },
          "metadata": {
            "tags": []
          }
        }
      ]
    },
    {
      "cell_type": "code",
      "metadata": {
        "id": "c-m96Dn9TWsI",
        "colab_type": "code",
        "outputId": "939b9deb-b532-452d-9c96-30b174cf271f",
        "colab": {
          "base_uri": "https://localhost:8080/",
          "height": 34
        }
      },
      "source": [
        "print (\"The percentage of entries with a non-zero value: \" + str(round(np.sum((np.abs(dense_matrix)>0).flatten())/(matrix_size**2)*100.,4)) + \"%\")"
      ],
      "execution_count": 0,
      "outputs": [
        {
          "output_type": "stream",
          "text": [
            "The percentage of entries with a non-zero value: 0.0366%\n"
          ],
          "name": "stdout"
        }
      ]
    },
    {
      "cell_type": "markdown",
      "metadata": {
        "id": "QwNY_cJGTWsK",
        "colab_type": "text"
      },
      "source": [
        "#### Not very dense, is it!"
      ]
    },
    {
      "cell_type": "code",
      "metadata": {
        "id": "15agDgtlTWsL",
        "colab_type": "code",
        "outputId": "eb65275c-2d6d-4068-c7eb-c90ca88a8c47",
        "colab": {
          "base_uri": "https://localhost:8080/",
          "height": 34
        }
      },
      "source": [
        "dense_matrix_filename = os.path.join(this_dir,\"dense_matrix.npy\")\n",
        "np.save(dense_matrix_filename, dense_matrix)\n",
        "print (\"The dense matrix is \" + str(os.stat(dense_matrix_filename).st_size/1e6) + \" MB\")"
      ],
      "execution_count": 0,
      "outputs": [
        {
          "output_type": "stream",
          "text": [
            "The dense matrix is 536.87104 MB\n"
          ],
          "name": "stdout"
        }
      ]
    },
    {
      "cell_type": "markdown",
      "metadata": {
        "id": "TqTPknPwTWsN",
        "colab_type": "text"
      },
      "source": [
        "#### TF does not allow for tensors > 2 GB. This limit is easy to reach. Each float is 8 bytes. The above file was 8192x8192x8 bytes ~ 536.87 MB\n",
        "#### If each dimension were 2x larger, we would reach the limit.\n",
        "#### To compress 224x224 data, NobleNet uses matrices that are >300 MB each, and often needs to store O(10) of these. \n",
        "#### This quickly fills up GPU RAM. On a CPU, this takes up to 25 GB.\n",
        "#### To compress larger files, NobleNet easily reaches the 2GB limit per matrix on the tf-gpu implementation."
      ]
    },
    {
      "cell_type": "markdown",
      "metadata": {
        "id": "80YUDDjwTWsN",
        "colab_type": "text"
      },
      "source": [
        "#### However, this can be represented, without loss, in a format that is 10000x smaller"
      ]
    },
    {
      "cell_type": "code",
      "metadata": {
        "id": "W6C2r23sTWsO",
        "colab_type": "code",
        "outputId": "0e7ea1fa-3da7-46ba-d122-c95651c2006f",
        "colab": {
          "base_uri": "https://localhost:8080/",
          "height": 34
        }
      },
      "source": [
        "sparse_matrix = scipy.sparse.coo_matrix(dense_matrix)\n",
        "sparse_matrix_filename = os.path.join(this_dir,\"sparse_matrix.npz\")\n",
        "scipy.sparse.save_npz(sparse_matrix_filename, sparse_matrix)\n",
        "print (\"The sparse matrix is \" + str(os.stat(sparse_matrix_filename).st_size/1e3) + \" KB\")"
      ],
      "execution_count": 0,
      "outputs": [
        {
          "output_type": "stream",
          "text": [
            "The sparse matrix is 27.307 KB\n"
          ],
          "name": "stdout"
        }
      ]
    },
    {
      "cell_type": "markdown",
      "metadata": {
        "id": "JPxCOxNLTWsQ",
        "colab_type": "text"
      },
      "source": [
        "### So let's Sparsify our matrix"
      ]
    },
    {
      "cell_type": "markdown",
      "metadata": {
        "id": "H6LfysBoTWsQ",
        "colab_type": "text"
      },
      "source": [
        "#### We want to do live testing of the operations so let's use tf's eager capability"
      ]
    },
    {
      "cell_type": "code",
      "metadata": {
        "id": "vNooqZ8LTWsR",
        "colab_type": "code",
        "colab": {}
      },
      "source": [
        "tf.enable_eager_execution()"
      ],
      "execution_count": 0,
      "outputs": []
    },
    {
      "cell_type": "markdown",
      "metadata": {
        "id": "3XQTNqmTTWsS",
        "colab_type": "text"
      },
      "source": [
        "#### First, we show our test data and testing mechanisms\n",
        "#### Let's establish our testing procedures on a Matrix x Vector Multiplication problem\n",
        "#### We will test TF's functions against NumPy's"
      ]
    },
    {
      "cell_type": "code",
      "metadata": {
        "id": "y4OwRgp9TWsT",
        "colab_type": "code",
        "outputId": "bdee8be2-7145-4c19-e3c5-9f54491f64f3",
        "colab": {
          "base_uri": "https://localhost:8080/",
          "height": 51
        }
      },
      "source": [
        "# We have already assigned the numpy versions of the dense matrix and the data vector\n",
        "# We can use these to compute the 2nd derivative directly using np.dot\n",
        "t0 = time.time()\n",
        "dense_out_np = np.dot(dense_matrix,data_vector)\n",
        "t1 = time.time() - t0\n",
        "\n",
        "print(\"NumPy DenseMatrix-Vector Multiply took \" + str(round(t1,3)) + \" s\")\n",
        "\n",
        "# We have to initialize the TF counterparts of the dense matrix and data vector\n",
        "dense_matrix_tf = tf.constant(dense_matrix)\n",
        "data_vector_tf = tf.constant(data_vector)\n",
        "\n",
        "# After doing so, we can compute the product using tf.linalg.matvec\n",
        "t0 = time.time()\n",
        "dense_out_tf = tf.linalg.matvec(dense_matrix_tf, data_vector_tf)\n",
        "t1 = time.time() - t0\n",
        "\n",
        "print(\"TF DenseMatrix-Vector Multiply took \" + str(round(t1,3)) + \" s\")"
      ],
      "execution_count": 0,
      "outputs": [
        {
          "output_type": "stream",
          "text": [
            "NumPy DenseMatrix-Vector Multiply took 0.028 s\n",
            "TF DenseMatrix-Vector Multiply took 0.117 s\n"
          ],
          "name": "stdout"
        }
      ]
    },
    {
      "cell_type": "code",
      "metadata": {
        "id": "UN0QS8Z4TWsU",
        "colab_type": "code",
        "outputId": "3a60efd7-9001-46cb-9fa7-5a7e39c69025",
        "colab": {
          "base_uri": "https://localhost:8080/",
          "height": 514
        }
      },
      "source": [
        "out = np.testing.assert_array_equal(dense_out_np,dense_out_tf.numpy())\n",
        "if out == None:\n",
        "    print (\"Success\")\n"
      ],
      "execution_count": 0,
      "outputs": [
        {
          "output_type": "error",
          "ename": "AssertionError",
          "evalue": "ignored",
          "traceback": [
            "\u001b[0;31m---------------------------------------------------------------------------\u001b[0m",
            "\u001b[0;31mAssertionError\u001b[0m                            Traceback (most recent call last)",
            "\u001b[0;32m<ipython-input-12-665f40cdaabe>\u001b[0m in \u001b[0;36m<module>\u001b[0;34m()\u001b[0m\n\u001b[0;32m----> 1\u001b[0;31m \u001b[0mout\u001b[0m \u001b[0;34m=\u001b[0m \u001b[0mnp\u001b[0m\u001b[0;34m.\u001b[0m\u001b[0mtesting\u001b[0m\u001b[0;34m.\u001b[0m\u001b[0massert_array_equal\u001b[0m\u001b[0;34m(\u001b[0m\u001b[0mdense_out_np\u001b[0m\u001b[0;34m,\u001b[0m\u001b[0mdense_out_tf\u001b[0m\u001b[0;34m.\u001b[0m\u001b[0mnumpy\u001b[0m\u001b[0;34m(\u001b[0m\u001b[0;34m)\u001b[0m\u001b[0;34m)\u001b[0m\u001b[0;34m\u001b[0m\u001b[0;34m\u001b[0m\u001b[0m\n\u001b[0m\u001b[1;32m      2\u001b[0m \u001b[0;32mif\u001b[0m \u001b[0mout\u001b[0m \u001b[0;34m==\u001b[0m \u001b[0;32mNone\u001b[0m\u001b[0;34m:\u001b[0m\u001b[0;34m\u001b[0m\u001b[0;34m\u001b[0m\u001b[0m\n\u001b[1;32m      3\u001b[0m     \u001b[0mprint\u001b[0m \u001b[0;34m(\u001b[0m\u001b[0;34m\"Success\"\u001b[0m\u001b[0;34m)\u001b[0m\u001b[0;34m\u001b[0m\u001b[0;34m\u001b[0m\u001b[0m\n",
            "\u001b[0;32m/usr/local/lib/python3.6/dist-packages/numpy/testing/_private/utils.py\u001b[0m in \u001b[0;36massert_array_equal\u001b[0;34m(x, y, err_msg, verbose)\u001b[0m\n\u001b[1;32m    902\u001b[0m     \u001b[0m__tracebackhide__\u001b[0m \u001b[0;34m=\u001b[0m \u001b[0;32mTrue\u001b[0m  \u001b[0;31m# Hide traceback for py.test\u001b[0m\u001b[0;34m\u001b[0m\u001b[0;34m\u001b[0m\u001b[0m\n\u001b[1;32m    903\u001b[0m     assert_array_compare(operator.__eq__, x, y, err_msg=err_msg,\n\u001b[0;32m--> 904\u001b[0;31m                          verbose=verbose, header='Arrays are not equal')\n\u001b[0m\u001b[1;32m    905\u001b[0m \u001b[0;34m\u001b[0m\u001b[0m\n\u001b[1;32m    906\u001b[0m \u001b[0;34m\u001b[0m\u001b[0m\n",
            "\u001b[0;32m/usr/local/lib/python3.6/dist-packages/numpy/testing/_private/utils.py\u001b[0m in \u001b[0;36massert_array_compare\u001b[0;34m(comparison, x, y, err_msg, verbose, header, precision, equal_nan, equal_inf)\u001b[0m\n\u001b[1;32m    825\u001b[0m                                 \u001b[0mverbose\u001b[0m\u001b[0;34m=\u001b[0m\u001b[0mverbose\u001b[0m\u001b[0;34m,\u001b[0m \u001b[0mheader\u001b[0m\u001b[0;34m=\u001b[0m\u001b[0mheader\u001b[0m\u001b[0;34m,\u001b[0m\u001b[0;34m\u001b[0m\u001b[0;34m\u001b[0m\u001b[0m\n\u001b[1;32m    826\u001b[0m                                 names=('x', 'y'), precision=precision)\n\u001b[0;32m--> 827\u001b[0;31m             \u001b[0;32mraise\u001b[0m \u001b[0mAssertionError\u001b[0m\u001b[0;34m(\u001b[0m\u001b[0mmsg\u001b[0m\u001b[0;34m)\u001b[0m\u001b[0;34m\u001b[0m\u001b[0;34m\u001b[0m\u001b[0m\n\u001b[0m\u001b[1;32m    828\u001b[0m     \u001b[0;32mexcept\u001b[0m \u001b[0mValueError\u001b[0m\u001b[0;34m:\u001b[0m\u001b[0;34m\u001b[0m\u001b[0;34m\u001b[0m\u001b[0m\n\u001b[1;32m    829\u001b[0m         \u001b[0;32mimport\u001b[0m \u001b[0mtraceback\u001b[0m\u001b[0;34m\u001b[0m\u001b[0;34m\u001b[0m\u001b[0m\n",
            "\u001b[0;31mAssertionError\u001b[0m: \nArrays are not equal\n\nMismatch: 0.0244%\nMax absolute difference: 3.38813179e-21\nMax relative difference: 1.59941664e-14\n x: array([ 8.288170e-12,  1.604217e-13,  1.626113e-13, ..., -1.626113e-13,\n       -1.604217e-13, -8.288170e-12])\n y: array([ 8.288170e-12,  1.604217e-13,  1.626113e-13, ..., -1.626113e-13,\n       -1.604217e-13, -8.288170e-12])"
          ]
        }
      ]
    },
    {
      "cell_type": "markdown",
      "metadata": {
        "id": "_vezkJ47TWsW",
        "colab_type": "text"
      },
      "source": [
        "### While, at first, this may cause some alarm, reading into the magnitudes shows that they're equal to within floating point precision. "
      ]
    },
    {
      "cell_type": "markdown",
      "metadata": {
        "id": "-EMGOE8CTWsX",
        "colab_type": "text"
      },
      "source": [
        "### We can plot these to ensure they are the same to within floating point precision as well"
      ]
    },
    {
      "cell_type": "code",
      "metadata": {
        "id": "dbngJzmjTWsX",
        "colab_type": "code",
        "outputId": "4ce42c3f-bf32-422a-a83b-8b8c2055c738",
        "colab": {
          "base_uri": "https://localhost:8080/",
          "height": 301
        }
      },
      "source": [
        "fig1 = plt.figure(figsize=(16,4))\n",
        "\n",
        "plt1 = fig1.add_subplot(121)\n",
        "plt1.plot(xax[::96], dense_out_np[::96], 'x', label=\"NumPy\")\n",
        "plt1.plot(xax[::84], dense_out_tf.numpy()[::84], \"o\", label=\"TF\")\n",
        "plt1.set_title(\"NumPy & TF outputs\",fontsize=16)\n",
        "plt1.set_xlabel(\"Arbitrary Domain\",fontsize=14)\n",
        "plt1.set_ylabel(\"2nd Derivative of Signal\",fontsize=14)\n",
        "plt1.legend()\n",
        "plt1.grid()\n",
        "\n",
        "plt2 = fig1.add_subplot(122)\n",
        "plt2.plot(dense_out_np - dense_out_tf.numpy())\n",
        "plt2.set_title(\"Difference\",fontsize=16)\n",
        "plt2.set_xlabel(\"Arbitrary Domain\",fontsize=14)\n",
        "plt2.grid()"
      ],
      "execution_count": 0,
      "outputs": [
        {
          "output_type": "display_data",
          "data": {
            "image/png": "[encoded data removed]",
            "text/plain": [
              "<Figure size 1152x288 with 2 Axes>"
            ]
          },
          "metadata": {
            "tags": []
          }
        }
      ]
    },
    {
      "cell_type": "markdown",
      "metadata": {
        "id": "kX6EoYZ2TWsY",
        "colab_type": "text"
      },
      "source": [
        "## Above, we established our testing procedure. We're going to use NumPy's `np.testing.assert_array_equal()` function. We don't expect it to pass but the maximum difference should be within floating point precision \n",
        "\n",
        "## Now let's see how this procedure fares on Matrix - Matrix products before we move on to the Sparse functions.\n",
        "\n",
        "### First, we'll look at dense x dense products"
      ]
    },
    {
      "cell_type": "code",
      "metadata": {
        "id": "Iopr-ml1TWsZ",
        "colab_type": "code",
        "colab": {}
      },
      "source": [
        "# Generate another matrix the same size as the dense_matrix\n",
        "data_matrix = np.random.random(dense_matrix.shape)"
      ],
      "execution_count": 0,
      "outputs": []
    },
    {
      "cell_type": "code",
      "metadata": {
        "id": "B1ftb8lwTWsa",
        "colab_type": "code",
        "outputId": "a3db9661-b1ce-4d50-dec8-f3c57f340c9c",
        "colab": {
          "base_uri": "https://localhost:8080/",
          "height": 51
        }
      },
      "source": [
        "# We have already assigned the numpy versions of the dense matrix and the data vector\n",
        "# We can use these to compute the 2nd derivative directly using np.dot\n",
        "t0 = time.time()\n",
        "dense_out_np = np.dot(dense_matrix,data_matrix)\n",
        "t1 = time.time() - t0\n",
        "\n",
        "print(\"NumPy DenseMatrix-DenseMatrix Multiply took \" + str(round(t1,3)) + \" s\")\n",
        "\n",
        "    \n",
        "# We have to initialize the TF counterparts of the dense matrix and data vector\n",
        "dense_matrix_tf = tf.constant(dense_matrix)\n",
        "data_matrix_tf = tf.constant(data_matrix)\n",
        "\n",
        "# After doing so, we can compute the product using tf.linalg.matvec\n",
        "t0 = time.time()\n",
        "dense_out_tf = tf.linalg.matmul(dense_matrix_tf, data_matrix_tf)\n",
        "t1 = time.time() - t0\n",
        "\n",
        "print(\"TF DenseMatrix-DenseMatrix Multiply took \" + str(round(t1,3)) + \" s\")"
      ],
      "execution_count": 0,
      "outputs": [
        {
          "output_type": "stream",
          "text": [
            "NumPy DenseMatrix-DenseMatrix Multiply took 17.711 s\n",
            "TF DenseMatrix-DenseMatrix Multiply took 19.151 s\n"
          ],
          "name": "stdout"
        }
      ]
    },
    {
      "cell_type": "code",
      "metadata": {
        "id": "mbYLZyk3TWsc",
        "colab_type": "code",
        "outputId": "a4f67081-741c-4606-8f74-86e011ee455d",
        "colab": {
          "base_uri": "https://localhost:8080/",
          "height": 548
        }
      },
      "source": [
        "out = np.testing.assert_array_equal(dense_out_np,dense_out_tf.numpy())\n",
        "if out == None:\n",
        "    print (\"Success\")\n"
      ],
      "execution_count": 0,
      "outputs": [
        {
          "output_type": "error",
          "ename": "AssertionError",
          "evalue": "ignored",
          "traceback": [
            "\u001b[0;31m---------------------------------------------------------------------------\u001b[0m",
            "\u001b[0;31mAssertionError\u001b[0m                            Traceback (most recent call last)",
            "\u001b[0;32m<ipython-input-16-665f40cdaabe>\u001b[0m in \u001b[0;36m<module>\u001b[0;34m()\u001b[0m\n\u001b[0;32m----> 1\u001b[0;31m \u001b[0mout\u001b[0m \u001b[0;34m=\u001b[0m \u001b[0mnp\u001b[0m\u001b[0;34m.\u001b[0m\u001b[0mtesting\u001b[0m\u001b[0;34m.\u001b[0m\u001b[0massert_array_equal\u001b[0m\u001b[0;34m(\u001b[0m\u001b[0mdense_out_np\u001b[0m\u001b[0;34m,\u001b[0m\u001b[0mdense_out_tf\u001b[0m\u001b[0;34m.\u001b[0m\u001b[0mnumpy\u001b[0m\u001b[0;34m(\u001b[0m\u001b[0;34m)\u001b[0m\u001b[0;34m)\u001b[0m\u001b[0;34m\u001b[0m\u001b[0;34m\u001b[0m\u001b[0m\n\u001b[0m\u001b[1;32m      2\u001b[0m \u001b[0;32mif\u001b[0m \u001b[0mout\u001b[0m \u001b[0;34m==\u001b[0m \u001b[0;32mNone\u001b[0m\u001b[0;34m:\u001b[0m\u001b[0;34m\u001b[0m\u001b[0;34m\u001b[0m\u001b[0m\n\u001b[1;32m      3\u001b[0m     \u001b[0mprint\u001b[0m \u001b[0;34m(\u001b[0m\u001b[0;34m\"Success\"\u001b[0m\u001b[0;34m)\u001b[0m\u001b[0;34m\u001b[0m\u001b[0;34m\u001b[0m\u001b[0m\n",
            "\u001b[0;32m/usr/local/lib/python3.6/dist-packages/numpy/testing/_private/utils.py\u001b[0m in \u001b[0;36massert_array_equal\u001b[0;34m(x, y, err_msg, verbose)\u001b[0m\n\u001b[1;32m    902\u001b[0m     \u001b[0m__tracebackhide__\u001b[0m \u001b[0;34m=\u001b[0m \u001b[0;32mTrue\u001b[0m  \u001b[0;31m# Hide traceback for py.test\u001b[0m\u001b[0;34m\u001b[0m\u001b[0;34m\u001b[0m\u001b[0m\n\u001b[1;32m    903\u001b[0m     assert_array_compare(operator.__eq__, x, y, err_msg=err_msg,\n\u001b[0;32m--> 904\u001b[0;31m                          verbose=verbose, header='Arrays are not equal')\n\u001b[0m\u001b[1;32m    905\u001b[0m \u001b[0;34m\u001b[0m\u001b[0m\n\u001b[1;32m    906\u001b[0m \u001b[0;34m\u001b[0m\u001b[0m\n",
            "\u001b[0;32m/usr/local/lib/python3.6/dist-packages/numpy/testing/_private/utils.py\u001b[0m in \u001b[0;36massert_array_compare\u001b[0;34m(comparison, x, y, err_msg, verbose, header, precision, equal_nan, equal_inf)\u001b[0m\n\u001b[1;32m    825\u001b[0m                                 \u001b[0mverbose\u001b[0m\u001b[0;34m=\u001b[0m\u001b[0mverbose\u001b[0m\u001b[0;34m,\u001b[0m \u001b[0mheader\u001b[0m\u001b[0;34m=\u001b[0m\u001b[0mheader\u001b[0m\u001b[0;34m,\u001b[0m\u001b[0;34m\u001b[0m\u001b[0;34m\u001b[0m\u001b[0m\n\u001b[1;32m    826\u001b[0m                                 names=('x', 'y'), precision=precision)\n\u001b[0;32m--> 827\u001b[0;31m             \u001b[0;32mraise\u001b[0m \u001b[0mAssertionError\u001b[0m\u001b[0;34m(\u001b[0m\u001b[0mmsg\u001b[0m\u001b[0;34m)\u001b[0m\u001b[0;34m\u001b[0m\u001b[0;34m\u001b[0m\u001b[0m\n\u001b[0m\u001b[1;32m    828\u001b[0m     \u001b[0;32mexcept\u001b[0m \u001b[0mValueError\u001b[0m\u001b[0;34m:\u001b[0m\u001b[0;34m\u001b[0m\u001b[0;34m\u001b[0m\u001b[0m\n\u001b[1;32m    829\u001b[0m         \u001b[0;32mimport\u001b[0m \u001b[0mtraceback\u001b[0m\u001b[0;34m\u001b[0m\u001b[0;34m\u001b[0m\u001b[0m\n",
            "\u001b[0;31mAssertionError\u001b[0m: \nArrays are not equal\n\nMismatch: 0.121%\nMax absolute difference: 4.4408921e-16\nMax relative difference: 1.45773007e-13\n x: array([[-0.971125, -0.768968, -0.289389, ..., -0.349295, -1.126094,\n         0.181253],\n       [ 0.305231,  0.215429,  0.475514, ...,  0.60131 , -0.158365,...\n y: array([[-0.971125, -0.768968, -0.289389, ..., -0.349295, -1.126094,\n         0.181253],\n       [ 0.305231,  0.215429,  0.475514, ...,  0.60131 , -0.158365,..."
          ]
        }
      ]
    },
    {
      "cell_type": "markdown",
      "metadata": {
        "id": "poH59TQaTWsf",
        "colab_type": "text"
      },
      "source": [
        "### They're not quite exactly equal. The difference is effectively down to floating point precision.\n",
        "### Interesting to note that TF computation is 2x slower. However, this is on a CPU. On a GPU, these numbers could be significantly better."
      ]
    },
    {
      "cell_type": "markdown",
      "metadata": {
        "id": "BmJZLWV6TWsf",
        "colab_type": "text"
      },
      "source": [
        "### Now, let's look at sparse x dense products"
      ]
    },
    {
      "cell_type": "code",
      "metadata": {
        "id": "i8HRs3dKTWsg",
        "colab_type": "code",
        "colab": {}
      },
      "source": [
        "### Convert NumPy Sparse Matrix to TF Sparse Matrix\n",
        "def convert_sparse_matrix_to_sparse_tensor(coo_matrix):\n",
        "    sparse_matrix_tf = tf.SparseTensor(indices=np.array([coo_matrix.row, coo_matrix.col]).T,\n",
        "                            values=coo_matrix.data,\n",
        "                            dense_shape=coo_matrix.shape)    \n",
        "    \n",
        "    return sparse_matrix_tf"
      ],
      "execution_count": 0,
      "outputs": []
    },
    {
      "cell_type": "code",
      "metadata": {
        "id": "mehSvudWTWsi",
        "colab_type": "code",
        "outputId": "69e76039-9bcf-4ac3-8150-b864e0a8e1bb",
        "colab": {
          "base_uri": "https://localhost:8080/",
          "height": 51
        }
      },
      "source": [
        "# We have already assigned the numpy versions of the dense matrix and the data vector\n",
        "# We can use these to compute the 2nd derivative directly using np.dot\n",
        "t0 = time.time()\n",
        "dense_out_np = scipy.sparse.coo_matrix.dot(sparse_matrix,data_matrix)\n",
        "t1 = time.time() - t0\n",
        "\n",
        "print(\"NumPy SparseMatrix-DenseMatrix Multiply took \" + str(round(t1,3)) + \" s\")\n",
        "\n",
        "# We have to initialize the TF counterparts of the dense matrix and data vector\n",
        "data_matrix_tf = tf.constant(data_matrix)\n",
        "sparse_matrix_tf = convert_sparse_matrix_to_sparse_tensor(sparse_matrix)\n",
        "\n",
        "# After doing so, we can compute the product using tf.linalg.matvec\n",
        "t0 = time.time()\n",
        "dense_out_tf = tf.sparse.sparse_dense_matmul(sparse_matrix_tf,data_matrix_tf)\n",
        "t1 = time.time() - t0\n",
        "\n",
        "print(\"TF SparseMatrix-DenseMatrix Multiply took \" + str(round(t1,3)) + \" s\")"
      ],
      "execution_count": 0,
      "outputs": [
        {
          "output_type": "stream",
          "text": [
            "NumPy SparseMatrix-DenseMatrix Multiply took 3.095 s\n",
            "TF SparseMatrix-DenseMatrix Multiply took 0.694 s\n"
          ],
          "name": "stdout"
        }
      ]
    },
    {
      "cell_type": "code",
      "metadata": {
        "id": "XKr1gt5WTWsk",
        "colab_type": "code",
        "outputId": "4f398842-d478-4023-c8c5-b8e5b493a6f2",
        "colab": {
          "base_uri": "https://localhost:8080/",
          "height": 34
        }
      },
      "source": [
        "out = np.testing.assert_array_equal(dense_out_np,dense_out_tf.numpy())\n",
        "if out == None:\n",
        "    print (\"Success\")\n"
      ],
      "execution_count": 0,
      "outputs": [
        {
          "output_type": "stream",
          "text": [
            "Success\n"
          ],
          "name": "stdout"
        }
      ]
    },
    {
      "cell_type": "markdown",
      "metadata": {
        "id": "hnHdA-NtTWsl",
        "colab_type": "text"
      },
      "source": [
        "#### The above shows that they're exactly equal, which is very surprising. TF is faster by a factor of 2!"
      ]
    },
    {
      "cell_type": "markdown",
      "metadata": {
        "id": "9ENBdTKTTWsm",
        "colab_type": "text"
      },
      "source": [
        "### Now let's reverse the order. This means we need to compute XY where Y is sparse. This function is not implemented in a perfectly transparent way, but it does exist! This is where you have to use some matrix algebra identities."
      ]
    },
    {
      "cell_type": "markdown",
      "metadata": {
        "id": "V2G7C6OGTWsm",
        "colab_type": "text"
      },
      "source": [
        "##### Using the transpose operation, we can get to the solution \n",
        "#### $(X Y)^T = Y^T X^T$\n",
        "#### $XY = ((X Y)^T)^T = (Y^T X^T)^T$\n",
        "##### So we use the existing methods to get $(X Y)^T$ by using tf.sparse.sparse_dense_matmul, where the two arguments are Y and X, and we use the adjoint_a = True, and adjoint_b = True flags to signify that we'd like the function to use the adjoint of those inputs\n",
        "\n",
        "##### This effectively leads to a computation of $(Y^T X^T)$. \n",
        "##### Finally, computing a transpose of this gives you the desired result, which is the computation of the matrix product XY, where Y is sparse"
      ]
    },
    {
      "cell_type": "code",
      "metadata": {
        "id": "8_-coRgHTWsn",
        "colab_type": "code",
        "outputId": "dd8fee7b-e1e4-468c-ec2c-41cda568ecf0",
        "colab": {
          "base_uri": "https://localhost:8080/",
          "height": 51
        }
      },
      "source": [
        "# Compute the reference result from NumPy\n",
        "t0 = time.time()\n",
        "dense_reversed_product_np = np.matmul(data_matrix, dense_matrix)\n",
        "t1 = time.time() - t0\n",
        "# print(\"NumPy DenseMatrix-Vector Multiply took \" + str(round(t1,3)) + \" s\")\n",
        "\n",
        "\n",
        "# Compute the desired result from TF's sparse multiply routine\n",
        "t0 = time.time()\n",
        "sparse_reversed_product_tf = tf.transpose(tf.sparse.sparse_dense_matmul(sparse_matrix_tf,data_matrix_tf,adjoint_a = True, adjoint_b = True))\n",
        "t1 = time.time() - t0\n",
        "print(\"TF SparseMatrix-DenseMatrix Multiply took \" + str(round(t1,3)) + \" s\")\n",
        "\n",
        "\n",
        "# Compute the desired result from TF's dense multiply routine. This won't scale to production!\n",
        "t0 = time.time()\n",
        "dense_reversed_product_tf = tf.linalg.matmul(data_matrix_tf, dense_matrix_tf)\n",
        "t1 = time.time() - t0\n",
        "print(\"TF DenseMatrix-DenseMatrix Multiply took \" + str(round(t1,3)) + \" s\")\n"
      ],
      "execution_count": 0,
      "outputs": [
        {
          "output_type": "stream",
          "text": [
            "TF SparseMatrix-DenseMatrix Multiply took 2.952 s\n",
            "TF DenseMatrix-DenseMatrix Multiply took 18.911 s\n"
          ],
          "name": "stdout"
        }
      ]
    },
    {
      "cell_type": "markdown",
      "metadata": {
        "id": "mMth4Kb9TWso",
        "colab_type": "text"
      },
      "source": [
        "### Dense - Dense Multiply is equivalent between Dense NumPy Multiplies vs Dense TF Multiplies"
      ]
    },
    {
      "cell_type": "code",
      "metadata": {
        "id": "JnLLr6bQTWsp",
        "colab_type": "code",
        "outputId": "cbd7cd84-b983-4ddc-b5e8-0166c77cfd60",
        "colab": {
          "base_uri": "https://localhost:8080/",
          "height": 548
        }
      },
      "source": [
        "out = np.testing.assert_array_equal(dense_reversed_product_np,dense_reversed_product_tf.numpy())\n",
        "if out == None:\n",
        "    print (\"Success\")\n"
      ],
      "execution_count": 0,
      "outputs": [
        {
          "output_type": "error",
          "ename": "AssertionError",
          "evalue": "ignored",
          "traceback": [
            "\u001b[0;31m---------------------------------------------------------------------------\u001b[0m",
            "\u001b[0;31mAssertionError\u001b[0m                            Traceback (most recent call last)",
            "\u001b[0;32m<ipython-input-21-e56748b2b2a7>\u001b[0m in \u001b[0;36m<module>\u001b[0;34m()\u001b[0m\n\u001b[0;32m----> 1\u001b[0;31m \u001b[0mout\u001b[0m \u001b[0;34m=\u001b[0m \u001b[0mnp\u001b[0m\u001b[0;34m.\u001b[0m\u001b[0mtesting\u001b[0m\u001b[0;34m.\u001b[0m\u001b[0massert_array_equal\u001b[0m\u001b[0;34m(\u001b[0m\u001b[0mdense_reversed_product_np\u001b[0m\u001b[0;34m,\u001b[0m\u001b[0mdense_reversed_product_tf\u001b[0m\u001b[0;34m.\u001b[0m\u001b[0mnumpy\u001b[0m\u001b[0;34m(\u001b[0m\u001b[0;34m)\u001b[0m\u001b[0;34m)\u001b[0m\u001b[0;34m\u001b[0m\u001b[0;34m\u001b[0m\u001b[0m\n\u001b[0m\u001b[1;32m      2\u001b[0m \u001b[0;32mif\u001b[0m \u001b[0mout\u001b[0m \u001b[0;34m==\u001b[0m \u001b[0;32mNone\u001b[0m\u001b[0;34m:\u001b[0m\u001b[0;34m\u001b[0m\u001b[0;34m\u001b[0m\u001b[0m\n\u001b[1;32m      3\u001b[0m     \u001b[0mprint\u001b[0m \u001b[0;34m(\u001b[0m\u001b[0;34m\"Success\"\u001b[0m\u001b[0;34m)\u001b[0m\u001b[0;34m\u001b[0m\u001b[0;34m\u001b[0m\u001b[0m\n",
            "\u001b[0;32m/usr/local/lib/python3.6/dist-packages/numpy/testing/_private/utils.py\u001b[0m in \u001b[0;36massert_array_equal\u001b[0;34m(x, y, err_msg, verbose)\u001b[0m\n\u001b[1;32m    902\u001b[0m     \u001b[0m__tracebackhide__\u001b[0m \u001b[0;34m=\u001b[0m \u001b[0;32mTrue\u001b[0m  \u001b[0;31m# Hide traceback for py.test\u001b[0m\u001b[0;34m\u001b[0m\u001b[0;34m\u001b[0m\u001b[0m\n\u001b[1;32m    903\u001b[0m     assert_array_compare(operator.__eq__, x, y, err_msg=err_msg,\n\u001b[0;32m--> 904\u001b[0;31m                          verbose=verbose, header='Arrays are not equal')\n\u001b[0m\u001b[1;32m    905\u001b[0m \u001b[0;34m\u001b[0m\u001b[0m\n\u001b[1;32m    906\u001b[0m \u001b[0;34m\u001b[0m\u001b[0m\n",
            "\u001b[0;32m/usr/local/lib/python3.6/dist-packages/numpy/testing/_private/utils.py\u001b[0m in \u001b[0;36massert_array_compare\u001b[0;34m(comparison, x, y, err_msg, verbose, header, precision, equal_nan, equal_inf)\u001b[0m\n\u001b[1;32m    825\u001b[0m                                 \u001b[0mverbose\u001b[0m\u001b[0;34m=\u001b[0m\u001b[0mverbose\u001b[0m\u001b[0;34m,\u001b[0m \u001b[0mheader\u001b[0m\u001b[0;34m=\u001b[0m\u001b[0mheader\u001b[0m\u001b[0;34m,\u001b[0m\u001b[0;34m\u001b[0m\u001b[0;34m\u001b[0m\u001b[0m\n\u001b[1;32m    826\u001b[0m                                 names=('x', 'y'), precision=precision)\n\u001b[0;32m--> 827\u001b[0;31m             \u001b[0;32mraise\u001b[0m \u001b[0mAssertionError\u001b[0m\u001b[0;34m(\u001b[0m\u001b[0mmsg\u001b[0m\u001b[0;34m)\u001b[0m\u001b[0;34m\u001b[0m\u001b[0;34m\u001b[0m\u001b[0m\n\u001b[0m\u001b[1;32m    828\u001b[0m     \u001b[0;32mexcept\u001b[0m \u001b[0mValueError\u001b[0m\u001b[0;34m:\u001b[0m\u001b[0;34m\u001b[0m\u001b[0;34m\u001b[0m\u001b[0m\n\u001b[1;32m    829\u001b[0m         \u001b[0;32mimport\u001b[0m \u001b[0mtraceback\u001b[0m\u001b[0;34m\u001b[0m\u001b[0;34m\u001b[0m\u001b[0m\n",
            "\u001b[0;31mAssertionError\u001b[0m: \nArrays are not equal\n\nMismatch: 0.122%\nMax absolute difference: 4.4408921e-16\nMax relative difference: 6.44560076e-14\n x: array([[-1.021503, -0.196457,  0.28558 , ...,  0.858729, -1.460655,\n         0.784195],\n       [-0.869724, -0.115492,  0.109394, ...,  0.640356, -0.837166,...\n y: array([[-1.021503, -0.196457,  0.28558 , ...,  0.858729, -1.460655,\n         0.784195],\n       [-0.869724, -0.115492,  0.109394, ...,  0.640356, -0.837166,..."
          ]
        }
      ]
    },
    {
      "cell_type": "markdown",
      "metadata": {
        "id": "k1g0LUfgTWsr",
        "colab_type": "text"
      },
      "source": [
        "### Sparse - Dense Multiply is equivalent to the Dense NumPy Multiply. This is the desired result"
      ]
    },
    {
      "cell_type": "code",
      "metadata": {
        "id": "fNOuZBjRTWss",
        "colab_type": "code",
        "outputId": "5ad0c9a1-2db7-43bb-b1e6-d4a676268aea",
        "colab": {
          "base_uri": "https://localhost:8080/",
          "height": 582
        }
      },
      "source": [
        "out = np.testing.assert_array_equal(dense_reversed_product_np,sparse_reversed_product_tf.numpy())\n",
        "# out = np.testing.assert_array_almost_equal(dense_reversed_product_np,sparse_reversed_product_tf.numpy())\n",
        "if out == None:\n",
        "    print (\"Success\")\n",
        "    \n",
        "print (out)"
      ],
      "execution_count": 0,
      "outputs": [
        {
          "output_type": "error",
          "ename": "AssertionError",
          "evalue": "ignored",
          "traceback": [
            "\u001b[0;31m---------------------------------------------------------------------------\u001b[0m",
            "\u001b[0;31mAssertionError\u001b[0m                            Traceback (most recent call last)",
            "\u001b[0;32m<ipython-input-22-0ff0d43528cb>\u001b[0m in \u001b[0;36m<module>\u001b[0;34m()\u001b[0m\n\u001b[0;32m----> 1\u001b[0;31m \u001b[0mout\u001b[0m \u001b[0;34m=\u001b[0m \u001b[0mnp\u001b[0m\u001b[0;34m.\u001b[0m\u001b[0mtesting\u001b[0m\u001b[0;34m.\u001b[0m\u001b[0massert_array_equal\u001b[0m\u001b[0;34m(\u001b[0m\u001b[0mdense_reversed_product_np\u001b[0m\u001b[0;34m,\u001b[0m\u001b[0msparse_reversed_product_tf\u001b[0m\u001b[0;34m.\u001b[0m\u001b[0mnumpy\u001b[0m\u001b[0;34m(\u001b[0m\u001b[0;34m)\u001b[0m\u001b[0;34m)\u001b[0m\u001b[0;34m\u001b[0m\u001b[0;34m\u001b[0m\u001b[0m\n\u001b[0m\u001b[1;32m      2\u001b[0m \u001b[0;31m# out = np.testing.assert_array_almost_equal(dense_reversed_product_np,sparse_reversed_product_tf.numpy())\u001b[0m\u001b[0;34m\u001b[0m\u001b[0;34m\u001b[0m\u001b[0;34m\u001b[0m\u001b[0m\n\u001b[1;32m      3\u001b[0m \u001b[0;32mif\u001b[0m \u001b[0mout\u001b[0m \u001b[0;34m==\u001b[0m \u001b[0;32mNone\u001b[0m\u001b[0;34m:\u001b[0m\u001b[0;34m\u001b[0m\u001b[0;34m\u001b[0m\u001b[0m\n\u001b[1;32m      4\u001b[0m     \u001b[0mprint\u001b[0m \u001b[0;34m(\u001b[0m\u001b[0;34m\"Success\"\u001b[0m\u001b[0;34m)\u001b[0m\u001b[0;34m\u001b[0m\u001b[0;34m\u001b[0m\u001b[0m\n\u001b[1;32m      5\u001b[0m \u001b[0;34m\u001b[0m\u001b[0m\n",
            "\u001b[0;32m/usr/local/lib/python3.6/dist-packages/numpy/testing/_private/utils.py\u001b[0m in \u001b[0;36massert_array_equal\u001b[0;34m(x, y, err_msg, verbose)\u001b[0m\n\u001b[1;32m    902\u001b[0m     \u001b[0m__tracebackhide__\u001b[0m \u001b[0;34m=\u001b[0m \u001b[0;32mTrue\u001b[0m  \u001b[0;31m# Hide traceback for py.test\u001b[0m\u001b[0;34m\u001b[0m\u001b[0;34m\u001b[0m\u001b[0m\n\u001b[1;32m    903\u001b[0m     assert_array_compare(operator.__eq__, x, y, err_msg=err_msg,\n\u001b[0;32m--> 904\u001b[0;31m                          verbose=verbose, header='Arrays are not equal')\n\u001b[0m\u001b[1;32m    905\u001b[0m \u001b[0;34m\u001b[0m\u001b[0m\n\u001b[1;32m    906\u001b[0m \u001b[0;34m\u001b[0m\u001b[0m\n",
            "\u001b[0;32m/usr/local/lib/python3.6/dist-packages/numpy/testing/_private/utils.py\u001b[0m in \u001b[0;36massert_array_compare\u001b[0;34m(comparison, x, y, err_msg, verbose, header, precision, equal_nan, equal_inf)\u001b[0m\n\u001b[1;32m    825\u001b[0m                                 \u001b[0mverbose\u001b[0m\u001b[0;34m=\u001b[0m\u001b[0mverbose\u001b[0m\u001b[0;34m,\u001b[0m \u001b[0mheader\u001b[0m\u001b[0;34m=\u001b[0m\u001b[0mheader\u001b[0m\u001b[0;34m,\u001b[0m\u001b[0;34m\u001b[0m\u001b[0;34m\u001b[0m\u001b[0m\n\u001b[1;32m    826\u001b[0m                                 names=('x', 'y'), precision=precision)\n\u001b[0;32m--> 827\u001b[0;31m             \u001b[0;32mraise\u001b[0m \u001b[0mAssertionError\u001b[0m\u001b[0;34m(\u001b[0m\u001b[0mmsg\u001b[0m\u001b[0;34m)\u001b[0m\u001b[0;34m\u001b[0m\u001b[0;34m\u001b[0m\u001b[0m\n\u001b[0m\u001b[1;32m    828\u001b[0m     \u001b[0;32mexcept\u001b[0m \u001b[0mValueError\u001b[0m\u001b[0;34m:\u001b[0m\u001b[0;34m\u001b[0m\u001b[0;34m\u001b[0m\u001b[0m\n\u001b[1;32m    829\u001b[0m         \u001b[0;32mimport\u001b[0m \u001b[0mtraceback\u001b[0m\u001b[0;34m\u001b[0m\u001b[0;34m\u001b[0m\u001b[0m\n",
            "\u001b[0;31mAssertionError\u001b[0m: \nArrays are not equal\n\nMismatch: 0.0614%\nMax absolute difference: 4.4408921e-16\nMax relative difference: 3.43461491e-14\n x: array([[-0.371413,  0.014235, -0.050959, ..., -1.534008,  0.660247,\n        -0.148222],\n       [-0.200116, -0.276076,  1.017401, ..., -0.57328 ,  0.661483,...\n y: array([[-0.371413,  0.014235, -0.050959, ..., -1.534008,  0.660247,\n        -0.148222],\n       [-0.200116, -0.276076,  1.017401, ..., -0.57328 ,  0.661483,..."
          ]
        }
      ]
    },
    {
      "cell_type": "markdown",
      "metadata": {
        "id": "qnJFYRXMTWst",
        "colab_type": "text"
      },
      "source": [
        "# So the answer is, \n",
        "### `tf.transpose(tf.sparse.sparse_dense_matmul(Y, X, adjoint_a = True, adjoint_b = True))`\n",
        "\n",
        "### The work here suggests that one should use SparseTensor math because it's cheaper in time and memory depending on the density and size of the matrix."
      ]
    }
  ]
}